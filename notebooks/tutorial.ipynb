{
 "cells": [
  {
   "cell_type": "markdown",
   "metadata": {},
   "source": [
    "# Data Manifest Tutorial\n",
    "\n",
    "The data manifest is the system we use for storing, tracking, and local caching of large files.\n",
    "\n",
    "This tutorial assumes that you've already configured data manifest. See README.md for instructions."
   ]
  },
  {
   "cell_type": "markdown",
   "metadata": {},
   "source": [
    "## Create a test data manifest"
   ]
  },
  {
   "cell_type": "code",
   "execution_count": 11,
   "metadata": {},
   "outputs": [
    {
     "name": "stdout",
     "output_type": "stream",
     "text": [
      "data  genome  README\n"
     ]
    }
   ],
   "source": [
    "!ls test_data\n",
    "!rm -rf ./test_checkout/ test.data_manifest.tsv*"
   ]
  },
  {
   "cell_type": "code",
   "execution_count": 13,
   "metadata": {},
   "outputs": [
    {
     "name": "stdout",
     "output_type": "stream",
     "text": [
      "/home/nboley/miniconda3/envs/data_manifest_dev/bin/dm:4: DeprecationWarning: pkg_resources is deprecated as an API. See https://setuptools.pypa.io/en/latest/pkg_resources.html\n",
      "  __import__('pkg_resources').require('datamanifest==1.0.0')\n",
      "Add files: 100%|██████████████████████████████████| 4/4 [00:00<00:00,  4.44it/s]\n"
     ]
    }
   ],
   "source": [
    "!dm --quiet create test.data_manifest.tsv --checkout-prefix ./test_checkout/ --remote-datastore-uri s3://test-data-manifest-2-2024/test1  ./test_data/*"
   ]
  },
  {
   "cell_type": "markdown",
   "metadata": {},
   "source": [
    "### Example Data Manifest:"
   ]
  },
  {
   "cell_type": "code",
   "execution_count": 19,
   "metadata": {},
   "outputs": [
    {
     "data": {
      "text/html": [
       "<div>\n",
       "<style scoped>\n",
       "    .dataframe tbody tr th:only-of-type {\n",
       "        vertical-align: middle;\n",
       "    }\n",
       "\n",
       "    .dataframe tbody tr th {\n",
       "        vertical-align: top;\n",
       "    }\n",
       "\n",
       "    .dataframe thead th {\n",
       "        text-align: right;\n",
       "    }\n",
       "</style>\n",
       "<table border=\"1\" class=\"dataframe\">\n",
       "  <thead>\n",
       "    <tr style=\"text-align: right;\">\n",
       "      <th></th>\n",
       "      <th>key</th>\n",
       "      <th>md5sum</th>\n",
       "      <th>size</th>\n",
       "      <th>notes</th>\n",
       "    </tr>\n",
       "  </thead>\n",
       "  <tbody>\n",
       "    <tr>\n",
       "      <th>0</th>\n",
       "      <td>data/small.chr6.bam.bai</td>\n",
       "      <td>69ef0af03399b9cfe7037aaaa5cdff7b</td>\n",
       "      <td>97152</td>\n",
       "      <td></td>\n",
       "    </tr>\n",
       "    <tr>\n",
       "      <th>1</th>\n",
       "      <td>data/small.chr6.bam</td>\n",
       "      <td>100d7d094d19c7eaa2b93a4bb67ecda7</td>\n",
       "      <td>198736</td>\n",
       "      <td></td>\n",
       "    </tr>\n",
       "    <tr>\n",
       "      <th>2</th>\n",
       "      <td>genome/GRCh38.p12.genome.chr6_99110000_9913000...</td>\n",
       "      <td>f02b28cef526d5ee3d657f010bfbc2bb</td>\n",
       "      <td>283499</td>\n",
       "      <td></td>\n",
       "    </tr>\n",
       "    <tr>\n",
       "      <th>3</th>\n",
       "      <td>README</td>\n",
       "      <td>ca1ea02c10b7c37f425b9b7dd86d5e11</td>\n",
       "      <td>9</td>\n",
       "      <td></td>\n",
       "    </tr>\n",
       "  </tbody>\n",
       "</table>\n",
       "</div>"
      ],
      "text/plain": [
       "                                                 key  \\\n",
       "0                            data/small.chr6.bam.bai   \n",
       "1                                data/small.chr6.bam   \n",
       "2  genome/GRCh38.p12.genome.chr6_99110000_9913000...   \n",
       "3                                             README   \n",
       "\n",
       "                             md5sum    size notes  \n",
       "0  69ef0af03399b9cfe7037aaaa5cdff7b   97152        \n",
       "1  100d7d094d19c7eaa2b93a4bb67ecda7  198736        \n",
       "2  f02b28cef526d5ee3d657f010bfbc2bb  283499        \n",
       "3  ca1ea02c10b7c37f425b9b7dd86d5e11       9        "
      ]
     },
     "execution_count": 19,
     "metadata": {},
     "output_type": "execute_result"
    }
   ],
   "source": []
  },
  {
   "cell_type": "markdown",
   "metadata": {},
   "source": [
    "# Using the DataManifest\n",
    "\n",
    "note: some of the code examples are in markdown rather than python, because writing to the data_manifest in automated tests would cause problems due to file locking or require managing a lot of temporary files making the documentation difficult to understand."
   ]
  },
  {
   "cell_type": "code",
   "execution_count": 10,
   "metadata": {},
   "outputs": [],
   "source": [
    "from ravel.data_manifest import DataManifest, DataManifestWriter\n",
    "from ravel.constants import REPO_DIR\n",
    "import tempfile"
   ]
  },
  {
   "cell_type": "markdown",
   "metadata": {},
   "source": [
    "## Getting a file from the Datamanifest\n",
    "    \n",
    "If no path is passed to DataManifest(), it will default to Ravel/repo_data_manifest.tsv"
   ]
  },
  {
   "cell_type": "code",
   "execution_count": 20,
   "metadata": {},
   "outputs": [
    {
     "name": "stdout",
     "output_type": "stream",
     "text": [
      "chr1\t248956422\n",
      "chr2\t242193529\n",
      "chr3\t198295559\n"
     ]
    }
   ],
   "source": [
    "with DataManifest() as dm:\n",
    "    file_path = dm.get('reference/GRCh38/chrom.sizes').path\n",
    "    # to make sure the file has been synced locally (useful if for example you're a job in AWS):\n",
    "    file_path = dm.sync_and_get('reference/GRCh38/chrom.sizes').path\n",
    "    \n",
    "with open(file_path) as fp:\n",
    "    print(fp.read(44))"
   ]
  },
  {
   "cell_type": "markdown",
   "metadata": {},
   "source": [
    "## Adding a file to an existing DataManifest\n",
    "\n",
    "This will add a file to the default datamanifest (you'll see a new line appear in your Ravel/repo_data_manifest.tsv file)\n",
    "\n",
    "Example using python:\n",
    "```\n",
    "with DataManifestWriter() as dm:\n",
    "    # to add a file, you must set the key.  This is basically the path in the Ravel/data directory.\n",
    "    dm.add('a/data_manifest/key', '/path/to/local/file')        \n",
    "```\n",
    "\n",
    "Example using CLI:\n",
    "```\n",
    "dm add a/data_manifest/key /path/to/local/file\n",
    "```\n",
    "\n",
    "CLI Usage:\n",
    "```\n",
    "> dm add --help\n",
    "usage: dm add [-h] [--manifest-fname MANIFEST_FNAME] [--notes NOTES] key path\n",
    "\n",
    "positional arguments:\n",
    "  key                   key name of the file\n",
    "  path                  path of the file to add\n",
    "\n",
    "optional arguments:\n",
    "  -h, --help            show this help message and exit\n",
    "  --manifest-fname MANIFEST_FNAME\n",
    "  --notes NOTES         Notes to add to the manifest\n",
    "```\n",
    "\n",
    "\n"
   ]
  },
  {
   "cell_type": "markdown",
   "metadata": {},
   "source": [
    "## Creating a New Empty DataManifest\n",
    "    \n",
    "    use .new() to create a new data manifest\n",
    "\n",
    "    with DataManifestWriter.new(f'{REPO_DIR}/data_manifests/my_datamanifest.tsv') as dm:\n",
    "        dm.add('a/data_manifest/key', '/path/to/local/file')\n",
    "        \n",
    "you can then use this datamanifest like this:\n",
    "\n",
    "    with DataManifest(f'{REPO_DIR}/data_manifests/my_datamanifest.tsv') as dm:\n",
    "        dm.get('a/data_manifest/key').path\n",
    "        \n",
    "or\n",
    "\n",
    "    with DataManifestWriter(f'{REPO_DIR}/data_manifests/my_datamanifest.tsv') as dm:\n",
    "        dm.add('a/data_manifest/key', '/some/file').path\n"
   ]
  },
  {
   "cell_type": "markdown",
   "metadata": {},
   "source": [
    "## Creating a DataManifest from a Directory\n",
    "    \n",
    "    \n",
    "CLI Usage:\n",
    "```\n",
    "> dm create --help\n",
    "usage: dm create [-h] [--manifest-fname MANIFEST_FNAME] [--dry-run] [--resume]\n",
    "                 [--checkout-prefix CHECKOUT_PREFIX]\n",
    "                 directory_to_add\n",
    "\n",
    "positional arguments:\n",
    "  directory_to_add\n",
    "\n",
    "optional arguments:\n",
    "  -h, --help            show this help message and exit\n",
    "  --manifest-fname MANIFEST_FNAME\n",
    "  --dry-run\n",
    "  --resume\n",
    "  --checkout-prefix CHECKOUT_PREFIX\n",
    "                        Location of checkout directory. Default:\n",
    "                        /home/nboley/src/Ravel/data\n",
    "```\n",
    "\n",
    "Example:\n",
    "```\n",
    "(ravel) nboley@chimata:/ssd/nboley$ ls test\n",
    "TSSs.discriminative.tsv  TSSs.healthy.chr11_5226554_5227578.png  TSSs.healthy.chr1_247171498_247172522.png\n",
    "```\n",
    "\n",
    "```\n",
    "(ravel) nboley@chimata:/ssd/nboley$ dm create ./test/ --manifest-fname test.tsv\n",
    "```\n",
    "\n",
    "```\n",
    "(ravel) nboley@chimata:/ssd/nboley$ cat test.tsv\n",
    "key     md5sum  size    permissions     notes\n",
    "TSSs.discriminative.tsv 2962707a37ea8d186d8a58ec66479177        23167   0664\n",
    "TSSs.healthy.chr11_5226554_5227578.png  9d94ea39b07d1f97f690f66e2c37eded        688932  0664\n",
    "TSSs.healthy.chr1_247171498_247172522.png       c1c7106110646c4e676ff46c2a4b6ae2        793133  0664\n",
    "```"
   ]
  },
  {
   "cell_type": "markdown",
   "metadata": {},
   "source": [
    "## Deleting\n",
    "\n",
    "    with DataManifestWriter() as dm:\n",
    "        dm.delete('a/data_manifest/key')\n",
    "\n",
    "Note that this will not delte the file from s3. If you'd like to delete a file from s3 (which you should only do if you're sure it's not being used anywhere -- even in other branches or old versions of MASTER) then you can run:\n",
    "\n",
    "    with DataManifestWriter() as dm:\n",
    "        dm.delete('a/data_manifest/key', delete_from_datastore=True)\n"
   ]
  }
 ],
 "metadata": {
  "kernelspec": {
   "display_name": "Python 3 (ipykernel)",
   "language": "python",
   "name": "python3"
  },
  "language_info": {
   "codemirror_mode": {
    "name": "ipython",
    "version": 3
   },
   "file_extension": ".py",
   "mimetype": "text/x-python",
   "name": "python",
   "nbconvert_exporter": "python",
   "pygments_lexer": "ipython3",
   "version": "3.12.2"
  },
  "pycharm": {
   "stem_cell": {
    "cell_type": "raw",
    "metadata": {
     "collapsed": false
    },
    "source": []
   }
  }
 },
 "nbformat": 4,
 "nbformat_minor": 4
}
