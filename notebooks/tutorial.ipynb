{
 "cells": [
  {
   "cell_type": "markdown",
   "metadata": {},
   "source": [
    "# Data Manifest Tutorial\n",
    "\n",
    "The data manifest is the system we use for storing, tracking, and local caching of large files.\n",
    "\n",
    "This tutorial assumes that you've already configured data manifest. See README.md for instructions and details about the command line interface."
   ]
  },
  {
   "cell_type": "markdown",
   "metadata": {},
   "source": [
    "## Create a test data manifest"
   ]
  },
  {
   "cell_type": "code",
   "execution_count": 9,
   "metadata": {},
   "outputs": [
    {
     "name": "stdout",
     "output_type": "stream",
     "text": [
      "data  genome  README\n"
     ]
    }
   ],
   "source": [
    "!ls test_data\n",
    "!rm -rf ./test_checkout/ test.data_manifest.tsv*"
   ]
  },
  {
   "cell_type": "code",
   "execution_count": 10,
   "metadata": {},
   "outputs": [
    {
     "name": "stdout",
     "output_type": "stream",
     "text": [
      "/home/nboley/miniconda3/envs/data_manifest_dev/bin/dm:4: DeprecationWarning: pkg_resources is deprecated as an API. See https://setuptools.pypa.io/en/latest/pkg_resources.html\n",
      "  __import__('pkg_resources').require('datamanifest==1.0.0')\n",
      "Add files: 100%|██████████████████████████████████| 4/4 [00:00<00:00,  4.04it/s]\n"
     ]
    }
   ],
   "source": [
    "!dm --quiet create test.data_manifest.tsv --checkout-prefix ./test_checkout/ --remote-datastore-uri s3://test-data-manifest-2-2024/test1  ./test_data/*"
   ]
  },
  {
   "cell_type": "markdown",
   "metadata": {},
   "source": [
    "# Using the DataManifest\n",
    "\n",
    "note: some of the code examples are in markdown rather than python, because writing to the data_manifest in automated tests would cause problems due to file locking or require managing a lot of temporary files making the documentation difficult to understand."
   ]
  },
  {
   "cell_type": "code",
   "execution_count": 11,
   "metadata": {},
   "outputs": [
    {
     "data": {
      "text/html": [
       "<div>\n",
       "<style scoped>\n",
       "    .dataframe tbody tr th:only-of-type {\n",
       "        vertical-align: middle;\n",
       "    }\n",
       "\n",
       "    .dataframe tbody tr th {\n",
       "        vertical-align: top;\n",
       "    }\n",
       "\n",
       "    .dataframe thead th {\n",
       "        text-align: right;\n",
       "    }\n",
       "</style>\n",
       "<table border=\"1\" class=\"dataframe\">\n",
       "  <thead>\n",
       "    <tr style=\"text-align: right;\">\n",
       "      <th></th>\n",
       "      <th>key</th>\n",
       "      <th>md5sum</th>\n",
       "      <th>size</th>\n",
       "      <th>notes</th>\n",
       "    </tr>\n",
       "  </thead>\n",
       "  <tbody>\n",
       "    <tr>\n",
       "      <th>0</th>\n",
       "      <td>data/small.chr6.bam.bai</td>\n",
       "      <td>69ef0af03399b9cfe7037aaaa5cdff7b</td>\n",
       "      <td>97152</td>\n",
       "      <td></td>\n",
       "    </tr>\n",
       "    <tr>\n",
       "      <th>1</th>\n",
       "      <td>data/small.chr6.bam</td>\n",
       "      <td>100d7d094d19c7eaa2b93a4bb67ecda7</td>\n",
       "      <td>198736</td>\n",
       "      <td></td>\n",
       "    </tr>\n",
       "    <tr>\n",
       "      <th>2</th>\n",
       "      <td>genome/GRCh38.p12.genome.chr6_99110000_9913000...</td>\n",
       "      <td>f02b28cef526d5ee3d657f010bfbc2bb</td>\n",
       "      <td>283499</td>\n",
       "      <td></td>\n",
       "    </tr>\n",
       "    <tr>\n",
       "      <th>3</th>\n",
       "      <td>README</td>\n",
       "      <td>ca1ea02c10b7c37f425b9b7dd86d5e11</td>\n",
       "      <td>9</td>\n",
       "      <td></td>\n",
       "    </tr>\n",
       "  </tbody>\n",
       "</table>\n",
       "</div>"
      ],
      "text/plain": [
       "                                                 key  \\\n",
       "0                            data/small.chr6.bam.bai   \n",
       "1                                data/small.chr6.bam   \n",
       "2  genome/GRCh38.p12.genome.chr6_99110000_9913000...   \n",
       "3                                             README   \n",
       "\n",
       "                             md5sum    size notes  \n",
       "0  69ef0af03399b9cfe7037aaaa5cdff7b   97152        \n",
       "1  100d7d094d19c7eaa2b93a4bb67ecda7  198736        \n",
       "2  f02b28cef526d5ee3d657f010bfbc2bb  283499        \n",
       "3  ca1ea02c10b7c37f425b9b7dd86d5e11       9        "
      ]
     },
     "execution_count": 11,
     "metadata": {},
     "output_type": "execute_result"
    }
   ],
   "source": [
    "import pandas\n",
    "pandas.read_table(f'test.data_manifest.tsv', comment='#', na_filter=False, dtype={'notes': str})"
   ]
  },
  {
   "cell_type": "code",
   "execution_count": 13,
   "metadata": {},
   "outputs": [],
   "source": [
    "from datamanifest import DataManifest, DataManifestWriter\n",
    "import tempfile"
   ]
  },
  {
   "cell_type": "markdown",
   "metadata": {},
   "source": [
    "## Getting a file from the Datamanifest"
   ]
  },
  {
   "cell_type": "code",
   "execution_count": 31,
   "metadata": {},
   "outputs": [
    {
     "name": "stdout",
     "output_type": "stream",
     "text": [
      "Record:\n",
      "DataManifestRecord(key='README', md5sum='ca1ea02c10b7c37f425b9b7dd86d5e11', size=9, notes='', path='/home/nboley/src/datamanifest/notebooks/test_checkout/README', remote_uri=RemotePath(scheme='s3', bucket='test-data-manifest-2-2024', path='test1/ca1ea02c10b7c37f425b9b7dd86d5e11-README'))\n",
      "\n",
      "Remote URI: s3://test-data-manifest-2-2024/test1/ca1ea02c10b7c37f425b9b7dd86d5e11-README\n",
      "\n",
      "File contents: \"\"\"\n",
      "Test data\n",
      "\"\"\"\n"
     ]
    }
   ],
   "source": [
    "with DataManifest(\"test.data_manifest.tsv\") as dm:\n",
    "    # get a data manifest record\n",
    "    print(\"Record:\\n\", dm.get('README'), sep=\"\")\n",
    "    # get an s3 uri\n",
    "    print(\"\\nRemote URI:\", dm.get('README').remote_uri.uri)\n",
    "    # run sync_and_get to make sure the file has been synced locally (useful if for example you're a job in AWS):\n",
    "    file_path = dm.sync_and_get('README').path\n",
    "    \n",
    "with open(file_path) as fp:\n",
    "    print('\\nFile contents: \"\"\"\\n' + fp.read() + '\\n\"\"\"')"
   ]
  },
  {
   "cell_type": "markdown",
   "metadata": {},
   "source": [
    "## Adding a file to an existing DataManifest\n",
    "\n",
    "This will add a file to the data manifest"
   ]
  },
  {
   "cell_type": "code",
   "execution_count": 34,
   "metadata": {},
   "outputs": [
    {
     "name": "stdout",
     "output_type": "stream",
     "text": [
      "TENAs.txt      test_data\t       test.data_manifest.tsv.local_config\n",
      "test_checkout  test.data_manifest.tsv  tutorial.ipynb\n"
     ]
    }
   ],
   "source": [
    "!echo \"AAAAAAAAAA\" > TENAs.txt\n",
    "!ls"
   ]
  },
  {
   "cell_type": "code",
   "execution_count": 39,
   "metadata": {},
   "outputs": [],
   "source": [
    "dm = DataManifestWriter(\"test.data_manifest.tsv\")"
   ]
  },
  {
   "cell_type": "code",
   "execution_count": 42,
   "metadata": {},
   "outputs": [
    {
     "name": "stderr",
     "output_type": "stream",
     "text": [
      "'test1/86d48f739677a6bc11751a9a3fd4a0d1-test_key' already exists in s3 -- using existing version.\n"
     ]
    },
    {
     "name": "stdout",
     "output_type": "stream",
     "text": [
      "AAAAAAAAAA\n",
      "\n"
     ]
    }
   ],
   "source": [
    "dm.add('test_key', 'TENAs.txt')\n",
    "print(open(dm.get('test_key').path).read())"
   ]
  },
  {
   "cell_type": "code",
   "execution_count": 43,
   "metadata": {},
   "outputs": [],
   "source": [
    "!echo \"BBBBBBBBBB\" > TENAs.txt"
   ]
  },
  {
   "cell_type": "code",
   "execution_count": 44,
   "metadata": {},
   "outputs": [
    {
     "name": "stdout",
     "output_type": "stream",
     "text": [
      "BBBBBBBBBB\n",
      "\n"
     ]
    }
   ],
   "source": [
    "dm.update('test_key', 'TENAs.txt')\n",
    "print(open(dm.get('test_key').path).read())"
   ]
  },
  {
   "cell_type": "code",
   "execution_count": 45,
   "metadata": {},
   "outputs": [],
   "source": [
    "dm.delete('test_key')"
   ]
  },
  {
   "cell_type": "code",
   "execution_count": 46,
   "metadata": {},
   "outputs": [
    {
     "ename": "KeyError",
     "evalue": "'test_key'",
     "output_type": "error",
     "traceback": [
      "\u001b[0;31m---------------------------------------------------------------------------\u001b[0m",
      "\u001b[0;31mKeyError\u001b[0m                                  Traceback (most recent call last)",
      "Cell \u001b[0;32mIn[46], line 1\u001b[0m\n\u001b[0;32m----> 1\u001b[0m dm\u001b[38;5;241m.\u001b[39mget(\u001b[38;5;124m'\u001b[39m\u001b[38;5;124mtest_key\u001b[39m\u001b[38;5;124m'\u001b[39m)\n",
      "File \u001b[0;32m~/src/datamanifest/datamanifest/datamanifest.py:683\u001b[0m, in \u001b[0;36mDataManifest.get\u001b[0;34m(self, key, validate)\u001b[0m\n\u001b[1;32m    681\u001b[0m \u001b[38;5;28;01mdef\u001b[39;00m \u001b[38;5;21mget\u001b[39m(\u001b[38;5;28mself\u001b[39m, key, validate\u001b[38;5;241m=\u001b[39m\u001b[38;5;28;01mTrue\u001b[39;00m) \u001b[38;5;241m-\u001b[39m\u001b[38;5;241m>\u001b[39m DataManifestRecord:\n\u001b[1;32m    682\u001b[0m     \u001b[38;5;28;01mif\u001b[39;00m validate:\n\u001b[0;32m--> 683\u001b[0m         \u001b[38;5;28mself\u001b[39m\u001b[38;5;241m.\u001b[39mvalidate_record(key, check_md5sum\u001b[38;5;241m=\u001b[39m\u001b[38;5;28;01mFalse\u001b[39;00m)\n\u001b[1;32m    684\u001b[0m     \u001b[38;5;28;01mreturn\u001b[39;00m \u001b[38;5;28mself\u001b[39m\u001b[38;5;241m.\u001b[39m_data[key]\n",
      "File \u001b[0;32m~/src/datamanifest/datamanifest/datamanifest.py:287\u001b[0m, in \u001b[0;36mDataManifest.validate_record\u001b[0;34m(self, key, check_md5sum)\u001b[0m\n\u001b[1;32m    279\u001b[0m \u001b[38;5;250m\u001b[39m\u001b[38;5;124;03m\"\"\"Validate that record has a valid file.\u001b[39;00m\n\u001b[1;32m    280\u001b[0m \n\u001b[1;32m    281\u001b[0m \u001b[38;5;124;03mChecks:\u001b[39;00m\n\u001b[0;32m   (...)\u001b[0m\n\u001b[1;32m    284\u001b[0m \u001b[38;5;124;03m4) (if check_md5sums is True) that the md5sums match (this is slow).\u001b[39;00m\n\u001b[1;32m    285\u001b[0m \u001b[38;5;124;03m\"\"\"\u001b[39;00m\n\u001b[1;32m    286\u001b[0m validate_key(key)\n\u001b[0;32m--> 287\u001b[0m local_abs_path \u001b[38;5;241m=\u001b[39m \u001b[38;5;28mself\u001b[39m\u001b[38;5;241m.\u001b[39m_data[key]\u001b[38;5;241m.\u001b[39mpath\n\u001b[1;32m    288\u001b[0m \u001b[38;5;66;03m# check that the file exists\u001b[39;00m\n\u001b[1;32m    289\u001b[0m \u001b[38;5;28;01mif\u001b[39;00m \u001b[38;5;129;01mnot\u001b[39;00m os\u001b[38;5;241m.\u001b[39mpath\u001b[38;5;241m.\u001b[39mexists(local_abs_path):\n",
      "\u001b[0;31mKeyError\u001b[0m: 'test_key'"
     ]
    }
   ],
   "source": [
    "dm.get('test_key')"
   ]
  },
  {
   "cell_type": "markdown",
   "metadata": {},
   "source": [
    "## Concurrency is handled through file system level locks"
   ]
  },
  {
   "cell_type": "code",
   "execution_count": 48,
   "metadata": {},
   "outputs": [
    {
     "ename": "RuntimeError",
     "evalue": "'test.data_manifest.tsv' has an exclusive lock from another process and so it can't be opened for reading",
     "output_type": "error",
     "traceback": [
      "\u001b[0;31m---------------------------------------------------------------------------\u001b[0m",
      "\u001b[0;31mBlockingIOError\u001b[0m                           Traceback (most recent call last)",
      "File \u001b[0;32m~/src/datamanifest/datamanifest/datamanifest.py:532\u001b[0m, in \u001b[0;36mDataManifest.__init__\u001b[0;34m(self, manifest_fname)\u001b[0m\n\u001b[1;32m    531\u001b[0m \u001b[38;5;28;01mtry\u001b[39;00m:\n\u001b[0;32m--> 532\u001b[0m     fcntl\u001b[38;5;241m.\u001b[39mflock(\u001b[38;5;28mself\u001b[39m\u001b[38;5;241m.\u001b[39m_fp, fcntl\u001b[38;5;241m.\u001b[39mLOCK_SH \u001b[38;5;241m|\u001b[39m fcntl\u001b[38;5;241m.\u001b[39mLOCK_NB)\n\u001b[1;32m    533\u001b[0m \u001b[38;5;28;01mexcept\u001b[39;00m \u001b[38;5;167;01mBlockingIOError\u001b[39;00m:\n",
      "\u001b[0;31mBlockingIOError\u001b[0m: [Errno 11] Resource temporarily unavailable",
      "\nDuring handling of the above exception, another exception occurred:\n",
      "\u001b[0;31mRuntimeError\u001b[0m                              Traceback (most recent call last)",
      "Cell \u001b[0;32mIn[48], line 2\u001b[0m\n\u001b[1;32m      1\u001b[0m \u001b[38;5;66;03m# Locking prevents new data manifests from being opened if any are opened for writing. It's usually safest to open data manifest writers in a context manager.\u001b[39;00m\n\u001b[0;32m----> 2\u001b[0m dm2 \u001b[38;5;241m=\u001b[39m DataManifestWriter(\u001b[38;5;124m\"\u001b[39m\u001b[38;5;124mtest.data_manifest.tsv\u001b[39m\u001b[38;5;124m\"\u001b[39m)\n",
      "File \u001b[0;32m~/src/datamanifest/datamanifest/datamanifest.py:750\u001b[0m, in \u001b[0;36mDataManifestWriter.__init__\u001b[0;34m(self, *args, **kwargs)\u001b[0m\n\u001b[1;32m    749\u001b[0m \u001b[38;5;28;01mdef\u001b[39;00m \u001b[38;5;21m__init__\u001b[39m(\u001b[38;5;28mself\u001b[39m, \u001b[38;5;241m*\u001b[39margs, \u001b[38;5;241m*\u001b[39m\u001b[38;5;241m*\u001b[39mkwargs):\n\u001b[0;32m--> 750\u001b[0m     \u001b[38;5;28msuper\u001b[39m()\u001b[38;5;241m.\u001b[39m\u001b[38;5;21m__init__\u001b[39m(\u001b[38;5;241m*\u001b[39margs, \u001b[38;5;241m*\u001b[39m\u001b[38;5;241m*\u001b[39mkwargs)\n\u001b[1;32m    752\u001b[0m     \u001b[38;5;66;03m# open a non-blocking exclusive lock. This prevents any other process from reading or writing\u001b[39;00m\n\u001b[1;32m    753\u001b[0m     \u001b[38;5;66;03m# this data manifest until we've closed the writer.\u001b[39;00m\n\u001b[1;32m    754\u001b[0m     fcntl\u001b[38;5;241m.\u001b[39mflock(\u001b[38;5;28mself\u001b[39m\u001b[38;5;241m.\u001b[39m_fp, fcntl\u001b[38;5;241m.\u001b[39mLOCK_UN)\n",
      "File \u001b[0;32m~/src/datamanifest/datamanifest/datamanifest.py:534\u001b[0m, in \u001b[0;36mDataManifest.__init__\u001b[0;34m(self, manifest_fname)\u001b[0m\n\u001b[1;32m    532\u001b[0m     fcntl\u001b[38;5;241m.\u001b[39mflock(\u001b[38;5;28mself\u001b[39m\u001b[38;5;241m.\u001b[39m_fp, fcntl\u001b[38;5;241m.\u001b[39mLOCK_SH \u001b[38;5;241m|\u001b[39m fcntl\u001b[38;5;241m.\u001b[39mLOCK_NB)\n\u001b[1;32m    533\u001b[0m \u001b[38;5;28;01mexcept\u001b[39;00m \u001b[38;5;167;01mBlockingIOError\u001b[39;00m:\n\u001b[0;32m--> 534\u001b[0m     \u001b[38;5;28;01mraise\u001b[39;00m \u001b[38;5;167;01mRuntimeError\u001b[39;00m(\n\u001b[1;32m    535\u001b[0m         \u001b[38;5;124mf\u001b[39m\u001b[38;5;124m\"\u001b[39m\u001b[38;5;124m'\u001b[39m\u001b[38;5;132;01m{\u001b[39;00m\u001b[38;5;28mself\u001b[39m\u001b[38;5;241m.\u001b[39mfname\u001b[38;5;132;01m}\u001b[39;00m\u001b[38;5;124m'\u001b[39m\u001b[38;5;124m has an exclusive lock from another process and so it can\u001b[39m\u001b[38;5;124m'\u001b[39m\u001b[38;5;124mt be opened for reading\u001b[39m\u001b[38;5;124m\"\u001b[39m\n\u001b[1;32m    536\u001b[0m     )\n\u001b[1;32m    538\u001b[0m \u001b[38;5;28;01massert\u001b[39;00m os\u001b[38;5;241m.\u001b[39mpath\u001b[38;5;241m.\u001b[39misfile(\u001b[38;5;28mself\u001b[39m\u001b[38;5;241m.\u001b[39mfname)\n\u001b[1;32m    540\u001b[0m \u001b[38;5;66;03m# read the header and extract any config values (currently only the remote datastore)\u001b[39;00m\n",
      "\u001b[0;31mRuntimeError\u001b[0m: 'test.data_manifest.tsv' has an exclusive lock from another process and so it can't be opened for reading"
     ]
    }
   ],
   "source": [
    "# Locking prevents new data manifests from being opened if any are opened for writing. It's usually safest to open data manifest writers in a context manager.\n",
    "dm2 = DataManifestWriter(\"test.data_manifest.tsv\")"
   ]
  },
  {
   "cell_type": "code",
   "execution_count": 49,
   "metadata": {},
   "outputs": [
    {
     "ename": "RuntimeError",
     "evalue": "'test.data_manifest.tsv' has an exclusive lock from another process and so it can't be opened for reading",
     "output_type": "error",
     "traceback": [
      "\u001b[0;31m---------------------------------------------------------------------------\u001b[0m",
      "\u001b[0;31mBlockingIOError\u001b[0m                           Traceback (most recent call last)",
      "File \u001b[0;32m~/src/datamanifest/datamanifest/datamanifest.py:532\u001b[0m, in \u001b[0;36mDataManifest.__init__\u001b[0;34m(self, manifest_fname)\u001b[0m\n\u001b[1;32m    531\u001b[0m \u001b[38;5;28;01mtry\u001b[39;00m:\n\u001b[0;32m--> 532\u001b[0m     fcntl\u001b[38;5;241m.\u001b[39mflock(\u001b[38;5;28mself\u001b[39m\u001b[38;5;241m.\u001b[39m_fp, fcntl\u001b[38;5;241m.\u001b[39mLOCK_SH \u001b[38;5;241m|\u001b[39m fcntl\u001b[38;5;241m.\u001b[39mLOCK_NB)\n\u001b[1;32m    533\u001b[0m \u001b[38;5;28;01mexcept\u001b[39;00m \u001b[38;5;167;01mBlockingIOError\u001b[39;00m:\n",
      "\u001b[0;31mBlockingIOError\u001b[0m: [Errno 11] Resource temporarily unavailable",
      "\nDuring handling of the above exception, another exception occurred:\n",
      "\u001b[0;31mRuntimeError\u001b[0m                              Traceback (most recent call last)",
      "Cell \u001b[0;32mIn[49], line 1\u001b[0m\n\u001b[0;32m----> 1\u001b[0m dm2 \u001b[38;5;241m=\u001b[39m DataManifest(\u001b[38;5;124m\"\u001b[39m\u001b[38;5;124mtest.data_manifest.tsv\u001b[39m\u001b[38;5;124m\"\u001b[39m)\n",
      "File \u001b[0;32m~/src/datamanifest/datamanifest/datamanifest.py:534\u001b[0m, in \u001b[0;36mDataManifest.__init__\u001b[0;34m(self, manifest_fname)\u001b[0m\n\u001b[1;32m    532\u001b[0m     fcntl\u001b[38;5;241m.\u001b[39mflock(\u001b[38;5;28mself\u001b[39m\u001b[38;5;241m.\u001b[39m_fp, fcntl\u001b[38;5;241m.\u001b[39mLOCK_SH \u001b[38;5;241m|\u001b[39m fcntl\u001b[38;5;241m.\u001b[39mLOCK_NB)\n\u001b[1;32m    533\u001b[0m \u001b[38;5;28;01mexcept\u001b[39;00m \u001b[38;5;167;01mBlockingIOError\u001b[39;00m:\n\u001b[0;32m--> 534\u001b[0m     \u001b[38;5;28;01mraise\u001b[39;00m \u001b[38;5;167;01mRuntimeError\u001b[39;00m(\n\u001b[1;32m    535\u001b[0m         \u001b[38;5;124mf\u001b[39m\u001b[38;5;124m\"\u001b[39m\u001b[38;5;124m'\u001b[39m\u001b[38;5;132;01m{\u001b[39;00m\u001b[38;5;28mself\u001b[39m\u001b[38;5;241m.\u001b[39mfname\u001b[38;5;132;01m}\u001b[39;00m\u001b[38;5;124m'\u001b[39m\u001b[38;5;124m has an exclusive lock from another process and so it can\u001b[39m\u001b[38;5;124m'\u001b[39m\u001b[38;5;124mt be opened for reading\u001b[39m\u001b[38;5;124m\"\u001b[39m\n\u001b[1;32m    536\u001b[0m     )\n\u001b[1;32m    538\u001b[0m \u001b[38;5;28;01massert\u001b[39;00m os\u001b[38;5;241m.\u001b[39mpath\u001b[38;5;241m.\u001b[39misfile(\u001b[38;5;28mself\u001b[39m\u001b[38;5;241m.\u001b[39mfname)\n\u001b[1;32m    540\u001b[0m \u001b[38;5;66;03m# read the header and extract any config values (currently only the remote datastore)\u001b[39;00m\n",
      "\u001b[0;31mRuntimeError\u001b[0m: 'test.data_manifest.tsv' has an exclusive lock from another process and so it can't be opened for reading"
     ]
    }
   ],
   "source": [
    "dm2 = DataManifest(\"test.data_manifest.tsv\")"
   ]
  },
  {
   "cell_type": "code",
   "execution_count": 50,
   "metadata": {},
   "outputs": [],
   "source": [
    "dm.close()\n",
    "dm2 = DataManifest(\"test.data_manifest.tsv\")"
   ]
  },
  {
   "cell_type": "code",
   "execution_count": 63,
   "metadata": {},
   "outputs": [],
   "source": [
    "# we can open multiple concurrent readers\n",
    "dm1 = DataManifest(\"test.data_manifest.tsv\")\n",
    "dm2 = DataManifest(\"test.data_manifest.tsv\")\n",
    "dm3 = DataManifest(\"test.data_manifest.tsv\")"
   ]
  },
  {
   "cell_type": "code",
   "execution_count": 64,
   "metadata": {},
   "outputs": [
    {
     "ename": "RuntimeError",
     "evalue": "'test.data_manifest.tsv' has been opened by another process, and so it can't be opened for writing",
     "output_type": "error",
     "traceback": [
      "\u001b[0;31m---------------------------------------------------------------------------\u001b[0m",
      "\u001b[0;31mBlockingIOError\u001b[0m                           Traceback (most recent call last)",
      "File \u001b[0;32m~/src/datamanifest/datamanifest/datamanifest.py:758\u001b[0m, in \u001b[0;36mDataManifestWriter.__init__\u001b[0;34m(self, *args, **kwargs)\u001b[0m\n\u001b[1;32m    757\u001b[0m \u001b[38;5;28;01mtry\u001b[39;00m:\n\u001b[0;32m--> 758\u001b[0m     fcntl\u001b[38;5;241m.\u001b[39mflock(\u001b[38;5;28mself\u001b[39m\u001b[38;5;241m.\u001b[39m_fp, fcntl\u001b[38;5;241m.\u001b[39mLOCK_EX \u001b[38;5;241m|\u001b[39m fcntl\u001b[38;5;241m.\u001b[39mLOCK_NB)\n\u001b[1;32m    759\u001b[0m \u001b[38;5;28;01mexcept\u001b[39;00m \u001b[38;5;167;01mBlockingIOError\u001b[39;00m:\n",
      "\u001b[0;31mBlockingIOError\u001b[0m: [Errno 11] Resource temporarily unavailable",
      "\nDuring handling of the above exception, another exception occurred:\n",
      "\u001b[0;31mRuntimeError\u001b[0m                              Traceback (most recent call last)",
      "Cell \u001b[0;32mIn[64], line 2\u001b[0m\n\u001b[1;32m      1\u001b[0m \u001b[38;5;66;03m# opening a writer \u001b[39;00m\n\u001b[0;32m----> 2\u001b[0m dmw \u001b[38;5;241m=\u001b[39m DataManifestWriter(\u001b[38;5;124m\"\u001b[39m\u001b[38;5;124mtest.data_manifest.tsv\u001b[39m\u001b[38;5;124m\"\u001b[39m)\n",
      "File \u001b[0;32m~/src/datamanifest/datamanifest/datamanifest.py:760\u001b[0m, in \u001b[0;36mDataManifestWriter.__init__\u001b[0;34m(self, *args, **kwargs)\u001b[0m\n\u001b[1;32m    758\u001b[0m     fcntl\u001b[38;5;241m.\u001b[39mflock(\u001b[38;5;28mself\u001b[39m\u001b[38;5;241m.\u001b[39m_fp, fcntl\u001b[38;5;241m.\u001b[39mLOCK_EX \u001b[38;5;241m|\u001b[39m fcntl\u001b[38;5;241m.\u001b[39mLOCK_NB)\n\u001b[1;32m    759\u001b[0m \u001b[38;5;28;01mexcept\u001b[39;00m \u001b[38;5;167;01mBlockingIOError\u001b[39;00m:\n\u001b[0;32m--> 760\u001b[0m     \u001b[38;5;28;01mraise\u001b[39;00m \u001b[38;5;167;01mRuntimeError\u001b[39;00m(\n\u001b[1;32m    761\u001b[0m         \u001b[38;5;124mf\u001b[39m\u001b[38;5;124m\"\u001b[39m\u001b[38;5;124m'\u001b[39m\u001b[38;5;132;01m{\u001b[39;00m\u001b[38;5;28mself\u001b[39m\u001b[38;5;241m.\u001b[39mfname\u001b[38;5;132;01m}\u001b[39;00m\u001b[38;5;124m'\u001b[39m\u001b[38;5;124m has been opened by another process, and so it can\u001b[39m\u001b[38;5;124m'\u001b[39m\u001b[38;5;124mt be opened for writing\u001b[39m\u001b[38;5;124m\"\u001b[39m\n\u001b[1;32m    762\u001b[0m     )\n",
      "\u001b[0;31mRuntimeError\u001b[0m: 'test.data_manifest.tsv' has been opened by another process, and so it can't be opened for writing"
     ]
    }
   ],
   "source": [
    "# opening a writer \n",
    "dmw = DataManifestWriter(\"test.data_manifest.tsv\")\n",
    "# dmw.close()"
   ]
  },
  {
   "cell_type": "code",
   "execution_count": 65,
   "metadata": {},
   "outputs": [],
   "source": [
    "dm1.close()\n",
    "dm2.close()\n",
    "dm3.close()"
   ]
  },
  {
   "cell_type": "code",
   "execution_count": 66,
   "metadata": {},
   "outputs": [],
   "source": [
    "dmw = DataManifestWriter(\"test.data_manifest.tsv\")\n",
    "dmw.close()"
   ]
  },
  {
   "cell_type": "markdown",
   "metadata": {},
   "source": [
    "### Using glob to find multiple files"
   ]
  },
  {
   "cell_type": "code",
   "execution_count": 58,
   "metadata": {},
   "outputs": [
    {
     "name": "stdout",
     "output_type": "stream",
     "text": [
      "['data/small.chr6.bam.bai', 'data/small.chr6.bam']\n",
      "\n",
      "DataManifestRecord(key='data/small.chr6.bam.bai', md5sum='69ef0af03399b9cfe7037aaaa5cdff7b', size=97152, notes='', path='/home/nboley/src/datamanifest/notebooks/test_checkout/data/small.chr6.bam.bai', remote_uri=RemotePath(scheme='s3', bucket='test-data-manifest-2-2024', path='test1/data/69ef0af03399b9cfe7037aaaa5cdff7b-small.chr6.bam.bai'))\n",
      "DataManifestRecord(key='data/small.chr6.bam', md5sum='100d7d094d19c7eaa2b93a4bb67ecda7', size=198736, notes='', path='/home/nboley/src/datamanifest/notebooks/test_checkout/data/small.chr6.bam', remote_uri=RemotePath(scheme='s3', bucket='test-data-manifest-2-2024', path='test1/data/100d7d094d19c7eaa2b93a4bb67ecda7-small.chr6.bam'))\n"
     ]
    }
   ],
   "source": [
    "with DataManifest(\"test.data_manifest.tsv\") as dm:\n",
    "    print(dm.glob('*bam*'))\n",
    "    print()\n",
    "    for rec in dm.glob_records('*bam*'):\n",
    "        print(rec)"
   ]
  },
  {
   "cell_type": "markdown",
   "metadata": {},
   "source": [
    "### Cleanup Tutorial Files"
   ]
  },
  {
   "cell_type": "code",
   "execution_count": 67,
   "metadata": {},
   "outputs": [],
   "source": [
    "!rm TENAs.txt\n",
    "!rm -rf ./test_checkout/ test.data_manifest.tsv*"
   ]
  }
 ],
 "metadata": {
  "kernelspec": {
   "display_name": "Python 3 (ipykernel)",
   "language": "python",
   "name": "python3"
  },
  "language_info": {
   "codemirror_mode": {
    "name": "ipython",
    "version": 3
   },
   "file_extension": ".py",
   "mimetype": "text/x-python",
   "name": "python",
   "nbconvert_exporter": "python",
   "pygments_lexer": "ipython3",
   "version": "3.12.2"
  },
  "pycharm": {
   "stem_cell": {
    "cell_type": "raw",
    "metadata": {
     "collapsed": false
    },
    "source": []
   }
  }
 },
 "nbformat": 4,
 "nbformat_minor": 4
}
