{
 "cells": [
  {
   "cell_type": "markdown",
   "metadata": {},
   "source": [
    "# Data Manifest Tutorial\n",
    "\n",
    "The data manifest is the system we use for storing, tracking, and local caching of large files.\n",
    "Files are tracked in a tsv file, for example:\n",
    "* **Ravel/repo_data_manifest.tsv** - Our **default** data manifest, contains a variety of files for analysis and testing of code.\n",
    "* **Ravel/data_manifests/frag_beds.tsv** - fragment beds\n",
    "* **Ravel/data_manifests/*.tsv** - other sets of files specific to a particular analysis or dataset\n",
    "\n",
    "Technical details:\n",
    "* When you add a file, it is stored in an S3 bucket, so it can take some time to upload it.\n",
    "* There is a local mirror of the S3 bucket in /scratch\n",
    "* When you do a **dm checkout --fast**, you are creating a bunch of symlinks to the local mirror inside Ravel/data.  The symlinks represent all of the files specified in your Ravel's current git checkout's data manifests.\n",
    "* make sure you use the context managers (**with DataManifest...**).  The DataManifest takes out a lot of file locks, and if you don't make sure you close them properly, you might end up in a deadlock."
   ]
  },
  {
   "cell_type": "markdown",
   "metadata": {},
   "source": [
    "## Check out and syncing the data directory\n",
    "\n",
    "After cloning the Ravel repository, you should check out the data_manifest, which will populate Ravel/data.\n",
    "**--fast** validates integrity using file sizes, rather than md5sums.\n",
    "\n",
    "from a shell:\n",
    "\n",
    "    conda activate ravel\n",
    "    dm checkout --fast\n",
    "\n",
    "If you've checked out a new branch, you can sync your Ravel/data directory to the data manifest tsvs in the branch using sync\n",
    "\n",
    "    dm sync --fast\n",
    "    \n",
    "`--fast` disables the MD5 check, which can be slow."
   ]
  },
  {
   "cell_type": "markdown",
   "metadata": {},
   "source": [
    "### Example Data Manifest:"
   ]
  },
  {
   "cell_type": "code",
   "execution_count": 5,
   "metadata": {},
   "outputs": [
    {
     "data": {
      "text/html": [
       "<div>\n",
       "<style scoped>\n",
       "    .dataframe tbody tr th:only-of-type {\n",
       "        vertical-align: middle;\n",
       "    }\n",
       "\n",
       "    .dataframe tbody tr th {\n",
       "        vertical-align: top;\n",
       "    }\n",
       "\n",
       "    .dataframe thead th {\n",
       "        text-align: right;\n",
       "    }\n",
       "</style>\n",
       "<table border=\"1\" class=\"dataframe\">\n",
       "  <thead>\n",
       "    <tr style=\"text-align: right;\">\n",
       "      <th></th>\n",
       "      <th>key</th>\n",
       "      <th>md5sum</th>\n",
       "      <th>size</th>\n",
       "      <th>permissions</th>\n",
       "      <th>notes</th>\n",
       "    </tr>\n",
       "  </thead>\n",
       "  <tbody>\n",
       "    <tr>\n",
       "      <th>0</th>\n",
       "      <td>snyder/sample_info.tsv</td>\n",
       "      <td>8313f773d0392fc81a123fe778233787</td>\n",
       "      <td>7098</td>\n",
       "      <td>664</td>\n",
       "      <td></td>\n",
       "    </tr>\n",
       "    <tr>\n",
       "      <th>1</th>\n",
       "      <td>immune_cell_atlas/myeloid.hg38.narrowPeak.gz.tbi</td>\n",
       "      <td>a6ba73d88430c111ba47ad300aa91046</td>\n",
       "      <td>76</td>\n",
       "      <td>664</td>\n",
       "      <td></td>\n",
       "    </tr>\n",
       "    <tr>\n",
       "      <th>2</th>\n",
       "      <td>immune_cell_atlas/b_cell.hg38.narrowPeak.gz</td>\n",
       "      <td>9afa8ce4cf9cb386d804be787460f706</td>\n",
       "      <td>1362</td>\n",
       "      <td>664</td>\n",
       "      <td></td>\n",
       "    </tr>\n",
       "  </tbody>\n",
       "</table>\n",
       "</div>"
      ],
      "text/plain": [
       "                                                key                            md5sum  size  permissions notes\n",
       "0                            snyder/sample_info.tsv  8313f773d0392fc81a123fe778233787  7098          664      \n",
       "1  immune_cell_atlas/myeloid.hg38.narrowPeak.gz.tbi  a6ba73d88430c111ba47ad300aa91046    76          664      \n",
       "2       immune_cell_atlas/b_cell.hg38.narrowPeak.gz  9afa8ce4cf9cb386d804be787460f706  1362          664      "
      ]
     },
     "execution_count": 5,
     "metadata": {},
     "output_type": "execute_result"
    }
   ],
   "source": [
    "import pandas\n",
    "from ravel.constants import REPO_DIR\n",
    "pandas.read_table(f'{REPO_DIR}/repo_data_manifest.tsv', na_filter=False, dtype={'notes': str}).head(3)"
   ]
  },
  {
   "cell_type": "markdown",
   "metadata": {},
   "source": [
    "# Using the DataManifest\n",
    "\n",
    "note: some of the code examples are in markdown rather than python, because writing to the data_manifest in automated tests would cause problems due to file locking or require managing a lot of temporary files making the documentation difficult to understand."
   ]
  },
  {
   "cell_type": "code",
   "execution_count": 10,
   "metadata": {},
   "outputs": [],
   "source": [
    "from ravel.data_manifest import DataManifest, DataManifestWriter\n",
    "from ravel.constants import REPO_DIR\n",
    "import tempfile"
   ]
  },
  {
   "cell_type": "markdown",
   "metadata": {},
   "source": [
    "## Getting a file from the Datamanifest\n",
    "    \n",
    "If no path is passed to DataManifest(), it will default to Ravel/repo_data_manifest.tsv"
   ]
  },
  {
   "cell_type": "code",
   "execution_count": 20,
   "metadata": {},
   "outputs": [
    {
     "name": "stdout",
     "output_type": "stream",
     "text": [
      "chr1\t248956422\n",
      "chr2\t242193529\n",
      "chr3\t198295559\n"
     ]
    }
   ],
   "source": [
    "with DataManifest() as dm:\n",
    "    file_path = dm.get('reference/GRCh38/chrom.sizes').path\n",
    "    # to make sure the file has been synced locally (useful if for example you're a job in AWS):\n",
    "    file_path = dm.sync_and_get('reference/GRCh38/chrom.sizes').path\n",
    "    \n",
    "with open(file_path) as fp:\n",
    "    print(fp.read(44))"
   ]
  },
  {
   "cell_type": "markdown",
   "metadata": {},
   "source": [
    "## Adding a file to an existing DataManifest\n",
    "\n",
    "This will add a file to the default datamanifest (you'll see a new line appear in your Ravel/repo_data_manifest.tsv file)\n",
    "\n",
    "Example using python:\n",
    "```\n",
    "with DataManifestWriter() as dm:\n",
    "    # to add a file, you must set the key.  This is basically the path in the Ravel/data directory.\n",
    "    dm.add('a/data_manifest/key', '/path/to/local/file')        \n",
    "```\n",
    "\n",
    "Example using CLI:\n",
    "```\n",
    "dm add a/data_manifest/key /path/to/local/file\n",
    "```\n",
    "\n",
    "CLI Usage:\n",
    "```\n",
    "> dm add --help\n",
    "usage: dm add [-h] [--manifest-fname MANIFEST_FNAME] [--notes NOTES] key path\n",
    "\n",
    "positional arguments:\n",
    "  key                   key name of the file\n",
    "  path                  path of the file to add\n",
    "\n",
    "optional arguments:\n",
    "  -h, --help            show this help message and exit\n",
    "  --manifest-fname MANIFEST_FNAME\n",
    "  --notes NOTES         Notes to add to the manifest\n",
    "```\n",
    "\n",
    "\n"
   ]
  },
  {
   "cell_type": "markdown",
   "metadata": {},
   "source": [
    "## Creating a New Empty DataManifest\n",
    "    \n",
    "    use .new() to create a new data manifest\n",
    "\n",
    "    with DataManifestWriter.new(f'{REPO_DIR}/data_manifests/my_datamanifest.tsv') as dm:\n",
    "        dm.add('a/data_manifest/key', '/path/to/local/file')\n",
    "        \n",
    "you can then use this datamanifest like this:\n",
    "\n",
    "    with DataManifest(f'{REPO_DIR}/data_manifests/my_datamanifest.tsv') as dm:\n",
    "        dm.get('a/data_manifest/key').path\n",
    "        \n",
    "or\n",
    "\n",
    "    with DataManifestWriter(f'{REPO_DIR}/data_manifests/my_datamanifest.tsv') as dm:\n",
    "        dm.add('a/data_manifest/key', '/some/file').path\n"
   ]
  },
  {
   "cell_type": "markdown",
   "metadata": {},
   "source": [
    "## Creating a DataManifest from a Directory\n",
    "    \n",
    "    \n",
    "CLI Usage:\n",
    "```\n",
    "> dm create --help\n",
    "usage: dm create [-h] [--manifest-fname MANIFEST_FNAME] [--dry-run] [--resume]\n",
    "                 [--checkout-prefix CHECKOUT_PREFIX]\n",
    "                 directory_to_add\n",
    "\n",
    "positional arguments:\n",
    "  directory_to_add\n",
    "\n",
    "optional arguments:\n",
    "  -h, --help            show this help message and exit\n",
    "  --manifest-fname MANIFEST_FNAME\n",
    "  --dry-run\n",
    "  --resume\n",
    "  --checkout-prefix CHECKOUT_PREFIX\n",
    "                        Location of checkout directory. Default:\n",
    "                        /home/nboley/src/Ravel/data\n",
    "```\n",
    "\n",
    "Example:\n",
    "```\n",
    "(ravel) nboley@chimata:/ssd/nboley$ ls test\n",
    "TSSs.discriminative.tsv  TSSs.healthy.chr11_5226554_5227578.png  TSSs.healthy.chr1_247171498_247172522.png\n",
    "```\n",
    "\n",
    "```\n",
    "(ravel) nboley@chimata:/ssd/nboley$ dm create ./test/ --manifest-fname test.tsv\n",
    "```\n",
    "\n",
    "```\n",
    "(ravel) nboley@chimata:/ssd/nboley$ cat test.tsv\n",
    "key     md5sum  size    permissions     notes\n",
    "TSSs.discriminative.tsv 2962707a37ea8d186d8a58ec66479177        23167   0664\n",
    "TSSs.healthy.chr11_5226554_5227578.png  9d94ea39b07d1f97f690f66e2c37eded        688932  0664\n",
    "TSSs.healthy.chr1_247171498_247172522.png       c1c7106110646c4e676ff46c2a4b6ae2        793133  0664\n",
    "```"
   ]
  },
  {
   "cell_type": "markdown",
   "metadata": {},
   "source": [
    "## Deleting\n",
    "\n",
    "    with DataManifestWriter() as dm:\n",
    "        dm.delete('a/data_manifest/key')\n",
    "\n",
    "Note that this will not delte the file from s3. If you'd like to delete a file from s3 (which you should only do if you're sure it's not being used anywhere -- even in other branches or old versions of MASTER) then you can run:\n",
    "\n",
    "    with DataManifestWriter() as dm:\n",
    "        dm.delete('a/data_manifest/key', delete_from_datastore=True)\n"
   ]
  }
 ],
 "metadata": {
  "kernelspec": {
   "display_name": "Python 3 (ipykernel)",
   "language": "python",
   "name": "python3"
  },
  "language_info": {
   "codemirror_mode": {
    "name": "ipython",
    "version": 3
   },
   "file_extension": ".py",
   "mimetype": "text/x-python",
   "name": "python",
   "nbconvert_exporter": "python",
   "pygments_lexer": "ipython3",
   "version": "3.9.13"
  },
  "pycharm": {
   "stem_cell": {
    "cell_type": "raw",
    "metadata": {
     "collapsed": false
    },
    "source": []
   }
  }
 },
 "nbformat": 4,
 "nbformat_minor": 4
}
